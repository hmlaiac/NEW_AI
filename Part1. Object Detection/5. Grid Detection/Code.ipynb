{
 "cells": [
  {
   "cell_type": "markdown",
   "id": "6923c272",
   "metadata": {},
   "source": [
    "# Grid Detection"
   ]
  },
  {
   "cell_type": "code",
   "execution_count": 1,
   "id": "878e541d",
   "metadata": {},
   "outputs": [],
   "source": [
    "import cv2\n",
    "import numpy as np\n",
    "import matplotlib.pyplot as plt\n",
    "%matplotlib inline"
   ]
  },
  {
   "cell_type": "code",
   "execution_count": 2,
   "id": "dac22973",
   "metadata": {},
   "outputs": [],
   "source": [
    "img = cv2.imread(\"img\")"
   ]
  },
  {
   "cell_type": "code",
   "execution_count": null,
   "id": "c1ed6b80",
   "metadata": {},
   "outputs": [],
   "source": [
    "\"\""
   ]
  }
 ],
 "metadata": {
  "kernelspec": {
   "display_name": "Python 3 (ipykernel)",
   "language": "python",
   "name": "python3"
  },
  "language_info": {
   "codemirror_mode": {
    "name": "ipython",
    "version": 3
   },
   "file_extension": ".py",
   "mimetype": "text/x-python",
   "name": "python",
   "nbconvert_exporter": "python",
   "pygments_lexer": "ipython3",
   "version": "3.7.13"
  }
 },
 "nbformat": 4,
 "nbformat_minor": 5
}
