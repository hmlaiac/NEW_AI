{
 "cells": [
  {
   "cell_type": "code",
   "execution_count": 1,
   "id": "aed2215c",
   "metadata": {},
   "outputs": [],
   "source": [
    "import cv2 \n",
    "import numpy as np\n",
    "import matplotlib.pyplot as plt"
   ]
  },
  {
   "cell_type": "code",
   "execution_count": 2,
   "id": "cee8a8f2",
   "metadata": {},
   "outputs": [
    {
     "ename": "ModuleNotFoundError",
     "evalue": "No module named 'winGuiAuto'",
     "output_type": "error",
     "traceback": [
      "\u001b[1;31m---------------------------------------------------------------------------\u001b[0m",
      "\u001b[1;31mModuleNotFoundError\u001b[0m                       Traceback (most recent call last)",
      "\u001b[1;32m~\\AppData\\Local\\Temp\\ipykernel_19108\\4214934500.py\u001b[0m in \u001b[0;36m<module>\u001b[1;34m\u001b[0m\n\u001b[0;32m      3\u001b[0m \u001b[1;32mfrom\u001b[0m \u001b[0mPIL\u001b[0m \u001b[1;32mimport\u001b[0m \u001b[0mImageGrab\u001b[0m\u001b[1;33m\u001b[0m\u001b[1;33m\u001b[0m\u001b[0m\n\u001b[0;32m      4\u001b[0m \u001b[1;32mimport\u001b[0m \u001b[0mwin32api\u001b[0m\u001b[1;33m\u001b[0m\u001b[1;33m\u001b[0m\u001b[0m\n\u001b[1;32m----> 5\u001b[1;33m \u001b[1;32mimport\u001b[0m \u001b[0mwinGuiAuto\u001b[0m\u001b[1;33m\u001b[0m\u001b[1;33m\u001b[0m\u001b[0m\n\u001b[0m\u001b[0;32m      6\u001b[0m \u001b[1;32mimport\u001b[0m \u001b[0mwin32gui\u001b[0m\u001b[1;33m\u001b[0m\u001b[1;33m\u001b[0m\u001b[0m\n\u001b[0;32m      7\u001b[0m \u001b[1;32mimport\u001b[0m \u001b[0mwin32con\u001b[0m\u001b[1;33m\u001b[0m\u001b[1;33m\u001b[0m\u001b[0m\n",
      "\u001b[1;31mModuleNotFoundError\u001b[0m: No module named 'winGuiAuto'"
     ]
    }
   ],
   "source": [
    "import numpy as np\n",
    "import cv2\n",
    "from PIL import ImageGrab\n",
    "import win32api\n",
    "import winGuiAuto\n",
    "import win32gui\n",
    "import win32con\n",
    "\n",
    "cap = cv2.VideoCapture(0)\n",
    "\n",
    "# Capture the window frame by frame\n",
    "image_list = []\n",
    "for _ in range(70):\n",
    "    ret, frame = cap.read()\n",
    "    cv2.imshow('SCORE',frame)\n",
    "    cv2.waitKey(1)\n",
    "    hwnd = winGuiAuto.findTopWindow(\"SCORE\")\n",
    "    win32gui.SetWindowPos(hwnd, win32con.HWND_TOPMOST, 0,0,0,0,\n",
    "    win32con.SWP_NOMOVE | win32con.SWP_NOSIZE)\n",
    "    rect = win32gui.GetWindowPlacement(hwnd)[-1]\n",
    "    image = ImageGrab.grab(rect)\n",
    "    image_list.append(image)\n",
    "\n",
    "height,width,channel = np.array(image).shape\n",
    "cap.release()\n",
    "cv2.destroyAllWindows()\n",
    "\n",
    "\n",
    "out = cv2.VideoWriter('video.avi',cv2.VideoWriter_fourcc(*'DIVX'), 5, (width,height))\n",
    " \n",
    "for images in image_list:\n",
    "    out.write(cv2.cvtColor(np.array(images),cv2.COLOR_BGR2RGB))\n",
    "out.release()\n",
    "\n",
    "# Save into .gif\n",
    "#import imageio\n",
    "#image_gif = []\n",
    "#for images in image_list:\n",
    "#    print(np.array(images))\n",
    "#    image_gif.append(np.array(images))\n",
    "#imageio.mimsave('movie.gif', image_gif,duration=0.2)"
   ]
  },
  {
   "cell_type": "code",
   "execution_count": null,
   "id": "87917e2e",
   "metadata": {},
   "outputs": [],
   "source": []
  }
 ],
 "metadata": {
  "kernelspec": {
   "display_name": "Python 3 (ipykernel)",
   "language": "python",
   "name": "python3"
  },
  "language_info": {
   "codemirror_mode": {
    "name": "ipython",
    "version": 3
   },
   "file_extension": ".py",
   "mimetype": "text/x-python",
   "name": "python",
   "nbconvert_exporter": "python",
   "pygments_lexer": "ipython3",
   "version": "3.7.13"
  }
 },
 "nbformat": 4,
 "nbformat_minor": 5
}
